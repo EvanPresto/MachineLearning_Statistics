{
 "cells": [
  {
   "cell_type": "markdown",
   "metadata": {},
   "source": [
    "## Chi Square Tests\n",
    "## Laerd Statistics \n"
   ]
  },
  {
   "cell_type": "code",
   "execution_count": 4,
   "metadata": {},
   "outputs": [],
   "source": [
    "import pandas as pd"
   ]
  },
  {
   "cell_type": "code",
   "execution_count": 3,
   "metadata": {},
   "outputs": [],
   "source": [
    "import numpy as np"
   ]
  },
  {
   "cell_type": "code",
   "execution_count": 18,
   "metadata": {},
   "outputs": [],
   "source": [
    "from scipy.stats import chi2_contingency\n",
    "import scipy.stats as ss"
   ]
  },
  {
   "cell_type": "code",
   "execution_count": 7,
   "metadata": {},
   "outputs": [
    {
     "name": "stdout",
     "output_type": "stream",
     "text": [
      "[['Male', 'Books'], ['Male', 'Books'], ['Male', 'Books'], ['Male', 'Books'], ['Male', 'Books'], ['Male', 'Books'], ['Male', 'Books'], ['Male', 'Books'], ['Male', 'Books'], ['Male', 'Books'], ['Male', 'Books'], ['Male', 'Books'], ['Male', 'Books'], ['Male', 'Books'], ['Male', 'Books'], ['Male', 'Books'], ['Male', 'Online'], ['Male', 'Online'], ['Male', 'Online'], ['Male', 'Online'], ['Male', 'Online'], ['Male', 'Online'], ['Male', 'Online'], ['Male', 'Online'], ['Male', 'Online'], ['Male', 'Online'], ['Male', 'Online'], ['Male', 'Online'], ['Male', 'Online'], ['Male', 'Online'], ['Male', 'Online'], ['Male', 'Online'], ['Male', 'Online'], ['Male', 'Online'], ['Male', 'Online'], ['Male', 'Online'], ['Male', 'Online'], ['Male', 'Online'], ['Male', 'Online'], ['Male', 'Online'], ['Female', 'Books'], ['Female', 'Books'], ['Female', 'Books'], ['Female', 'Books'], ['Female', 'Books'], ['Female', 'Books'], ['Female', 'Books'], ['Female', 'Books'], ['Female', 'Books'], ['Female', 'Books'], ['Female', 'Books'], ['Female', 'Books'], ['Female', 'Books'], ['Female', 'Online'], ['Female', 'Online'], ['Female', 'Online'], ['Female', 'Online'], ['Female', 'Online'], ['Female', 'Online'], ['Female', 'Online'], ['Female', 'Online'], ['Female', 'Online'], ['Female', 'Online'], ['Female', 'Online'], ['Female', 'Online'], ['Female', 'Online'], ['Female', 'Online'], ['Female', 'Online'], ['Female', 'Online'], ['Female', 'Online'], ['Female', 'Online'], ['Female', 'Online'], ['Female', 'Online'], ['Female', 'Online'], ['Female', 'Online'], ['Female', 'Online'], ['Female', 'Online'], ['Female', 'Online'], ['Female', 'Online'], ['Female', 'Online']]\n"
     ]
    }
   ],
   "source": [
    "#import scipy.stats - module containts large number of probability distributions, summary and frequency statistics, correlation functions and statistical tests\n",
    "['Male','Books']\n",
    "\n",
    "male_books = [['Male','Books']]*16\n",
    "male_online = [['Male','Online']]*24\n",
    "female_online =  [['Female','Online']]*27\n",
    "female_books = [['Female','Books']]*13\n",
    "\n",
    "\n",
    "raw_data = male_books + male_online + female_books + female_online\n",
    "\n",
    "print(raw_data)\n"
   ]
  },
  {
   "cell_type": "code",
   "execution_count": 16,
   "metadata": {},
   "outputs": [
    {
     "data": {
      "text/html": [
       "<div>\n",
       "<style scoped>\n",
       "    .dataframe tbody tr th:only-of-type {\n",
       "        vertical-align: middle;\n",
       "    }\n",
       "\n",
       "    .dataframe tbody tr th {\n",
       "        vertical-align: top;\n",
       "    }\n",
       "\n",
       "    .dataframe thead th {\n",
       "        text-align: right;\n",
       "    }\n",
       "</style>\n",
       "<table border=\"1\" class=\"dataframe\">\n",
       "  <thead>\n",
       "    <tr style=\"text-align: right;\">\n",
       "      <th></th>\n",
       "      <th>Gender</th>\n",
       "      <th>Medium</th>\n",
       "    </tr>\n",
       "  </thead>\n",
       "  <tbody>\n",
       "    <tr>\n",
       "      <th>count</th>\n",
       "      <td>80</td>\n",
       "      <td>80</td>\n",
       "    </tr>\n",
       "    <tr>\n",
       "      <th>unique</th>\n",
       "      <td>2</td>\n",
       "      <td>2</td>\n",
       "    </tr>\n",
       "    <tr>\n",
       "      <th>top</th>\n",
       "      <td>Male</td>\n",
       "      <td>Online</td>\n",
       "    </tr>\n",
       "    <tr>\n",
       "      <th>freq</th>\n",
       "      <td>40</td>\n",
       "      <td>51</td>\n",
       "    </tr>\n",
       "  </tbody>\n",
       "</table>\n",
       "</div>"
      ],
      "text/plain": [
       "       Gender  Medium\n",
       "count      80      80\n",
       "unique      2       2\n",
       "top      Male  Online\n",
       "freq       40      51"
      ]
     },
     "execution_count": 16,
     "metadata": {},
     "output_type": "execute_result"
    }
   ],
   "source": [
    "df = pd.DataFrame(raw_data, columns=['Gender','Medium'])\n",
    "df.head()\n",
    "df.describe()\n"
   ]
  },
  {
   "cell_type": "code",
   "execution_count": 22,
   "metadata": {},
   "outputs": [
    {
     "name": "stdout",
     "output_type": "stream",
     "text": [
      "(array(['Female', 'Male'], dtype=object), array(['Books', 'Online'], dtype=object))\n",
      "[[13 27]\n",
      " [16 24]]\n"
     ]
    }
   ],
   "source": [
    "#Perform Crosstabs Contingency\n",
    "cross = ss.contingency.crosstab(df['Gender'],df['Medium'])\n",
    "print(cross.elements)\n",
    "print(cross.count)\n",
    "\n"
   ]
  },
  {
   "cell_type": "code",
   "execution_count": 23,
   "metadata": {},
   "outputs": [
    {
     "name": "stdout",
     "output_type": "stream",
     "text": [
      "['Female' 'Male'] ['Books' 'Online']\n"
     ]
    }
   ],
   "source": [
    "first , second = cross.elements\n",
    "print(first, second)"
   ]
  },
  {
   "cell_type": "code",
   "execution_count": 26,
   "metadata": {},
   "outputs": [
    {
     "name": "stdout",
     "output_type": "stream",
     "text": [
      "Chi2ContingencyResult(statistic=0.486815415821501, pvalue=0.4853513240525321, dof=1, expected_freq=array([[14.5, 25.5],\n",
      "       [14.5, 25.5]]))\n"
     ]
    }
   ],
   "source": [
    "result = ss.chi2_contingency(cross.count, correction=False)\n",
    "print(result)"
   ]
  },
  {
   "cell_type": "code",
   "execution_count": 29,
   "metadata": {},
   "outputs": [
    {
     "name": "stdout",
     "output_type": "stream",
     "text": [
      "[[14.5 25.5]\n",
      " [14.5 25.5]]\n"
     ]
    }
   ],
   "source": [
    "print(result.expected_freq)"
   ]
  },
  {
   "cell_type": "code",
   "execution_count": 32,
   "metadata": {},
   "outputs": [
    {
     "name": "stdout",
     "output_type": "stream",
     "text": [
      "14.5\n"
     ]
    }
   ],
   "source": [
    "x = 40*(29 / 80)\n",
    "print(x)"
   ]
  }
 ],
 "metadata": {
  "kernelspec": {
   "display_name": ".venv",
   "language": "python",
   "name": "python3"
  },
  "language_info": {
   "codemirror_mode": {
    "name": "ipython",
    "version": 3
   },
   "file_extension": ".py",
   "mimetype": "text/x-python",
   "name": "python",
   "nbconvert_exporter": "python",
   "pygments_lexer": "ipython3",
   "version": "3.11.3"
  }
 },
 "nbformat": 4,
 "nbformat_minor": 2
}
